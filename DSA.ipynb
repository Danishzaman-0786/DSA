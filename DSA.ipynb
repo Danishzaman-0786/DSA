{
  "nbformat": 4,
  "nbformat_minor": 0,
  "metadata": {
    "colab": {
      "provenance": [],
      "authorship_tag": "ABX9TyPdUUQxL5HW5FmWJ0a0rzo1",
      "include_colab_link": true
    },
    "kernelspec": {
      "name": "python3",
      "display_name": "Python 3"
    },
    "language_info": {
      "name": "python"
    }
  },
  "cells": [
    {
      "cell_type": "markdown",
      "metadata": {
        "id": "view-in-github",
        "colab_type": "text"
      },
      "source": [
        "<a href=\"https://colab.research.google.com/github/Danishzaman-0786/DSA/blob/main/DSA.ipynb\" target=\"_parent\"><img src=\"https://colab.research.google.com/assets/colab-badge.svg\" alt=\"Open In Colab\"/></a>"
      ]
    },
    {
      "cell_type": "code",
      "execution_count": null,
      "metadata": {
        "colab": {
          "base_uri": "https://localhost:8080/"
        },
        "id": "3aosqdlS7F1h",
        "outputId": "74262001-9795-43e5-89ef-4d6ee6723638"
      },
      "outputs": [
        {
          "output_type": "execute_result",
          "data": {
            "text/plain": [
              "7"
            ]
          },
          "metadata": {},
          "execution_count": 1
        }
      ],
      "source": [
        "v=[1,2,4,3,5,7,6]\n",
        "len(v)"
      ]
    },
    {
      "cell_type": "code",
      "source": [
        "key=77\n",
        "t=False\n",
        "for i in v:\n",
        "  if i==key:\n",
        "    print('true')\n",
        "    t=True\n",
        "if ~t:\n",
        "    print('not_true')\n"
      ],
      "metadata": {
        "colab": {
          "base_uri": "https://localhost:8080/"
        },
        "id": "46kaHn2x7Pf7",
        "outputId": "84ea6e43-644f-48fc-8aea-ca93c2af6035"
      },
      "execution_count": null,
      "outputs": [
        {
          "output_type": "stream",
          "name": "stdout",
          "text": [
            "not_true\n"
          ]
        }
      ]
    },
    {
      "cell_type": "code",
      "source": [
        "v=[1,2,3,4,5]\n",
        "key=3\n",
        "mid=v[len(v)//2]"
      ],
      "metadata": {
        "id": "4fiEQVNF7lfQ"
      },
      "execution_count": null,
      "outputs": []
    },
    {
      "cell_type": "code",
      "source": [
        "mid"
      ],
      "metadata": {
        "colab": {
          "base_uri": "https://localhost:8080/"
        },
        "id": "woaSyN7eD920",
        "outputId": "90b66b6d-80d7-498a-d2ee-18c0bb080269"
      },
      "execution_count": null,
      "outputs": [
        {
          "output_type": "execute_result",
          "data": {
            "text/plain": [
              "3"
            ]
          },
          "metadata": {},
          "execution_count": 20
        }
      ]
    },
    {
      "cell_type": "code",
      "source": [
        "if key>=mid:\n",
        "    print('right')\n",
        "    for i in v:\n",
        "      if i==key:\n",
        "        print('true',i)\n",
        "else:\n",
        "  print('left')\n",
        "  for i in v:\n",
        "    if i==key:\n",
        "      print('true',i)\n",
        "\n",
        "\n"
      ],
      "metadata": {
        "colab": {
          "base_uri": "https://localhost:8080/"
        },
        "id": "JwkpCMqOD-6c",
        "outputId": "60d55aca-213c-4ccb-a6f2-78deb7102216"
      },
      "execution_count": null,
      "outputs": [
        {
          "output_type": "stream",
          "name": "stdout",
          "text": [
            "right\n",
            "true 3\n"
          ]
        }
      ]
    },
    {
      "cell_type": "code",
      "source": [
        "v=[1,2,3,4,5]\n",
        "k==5\n",
        "s=0\n",
        "e=len(v)\n",
        "while(s<=e):\n",
        "  mid=v[len(v)//2]\n",
        "  if k==mid:\n",
        "    print('true',mid)\n",
        "    break\n",
        "  elif k>mid:\n",
        "    s=mid+1\n",
        "  else:\n"
      ],
      "metadata": {
        "id": "GJJ5dbSEFc7q"
      },
      "execution_count": null,
      "outputs": []
    },
    {
      "cell_type": "code",
      "source": [
        "v=[1,2,3,4,5]\n",
        "k=3\n",
        "mid=v[len(v)//2]\n",
        "if k>=mid:\n",
        "  for i in v:\n",
        "    if i==k:\n",
        "      print('true',i)\n",
        "else:\n",
        "  for i in v:\n",
        "    if i==k:\n",
        "      print('true',i)"
      ],
      "metadata": {
        "colab": {
          "base_uri": "https://localhost:8080/"
        },
        "id": "z7KsBWrKLMd2",
        "outputId": "ba12e69b-1d79-44dd-8d6e-ccf88054bc0c"
      },
      "execution_count": null,
      "outputs": [
        {
          "output_type": "stream",
          "name": "stdout",
          "text": [
            "true 3\n"
          ]
        }
      ]
    },
    {
      "cell_type": "code",
      "source": [
        "v=[1,2,3,4,5,6,7,8,9]\n",
        "k=7\n",
        "i=0\n",
        "t=False\n",
        "j=len(v)-1\n",
        "while(i<=j):\n",
        "  mid=(i+j)//2\n",
        "  if k==v[mid]:\n",
        "    print('true',v.index(k))\n",
        "    break\n",
        "  if k>v[mid]:\n",
        "    i=mid+1\n",
        "  elif k<v[mid]:\n",
        "    j=mid-1\n",
        "#t=True\n",
        "if k!=v[mid]:\n",
        "  print(-1)"
      ],
      "metadata": {
        "colab": {
          "base_uri": "https://localhost:8080/"
        },
        "id": "2fTXJfQsLpmr",
        "outputId": "70933633-9bdc-4633-f639-caa208e28621"
      },
      "execution_count": null,
      "outputs": [
        {
          "output_type": "stream",
          "name": "stdout",
          "text": [
            "true 6\n"
          ]
        }
      ]
    },
    {
      "cell_type": "code",
      "source": [
        "#sortingAlgo\n",
        "#1:bubble\n",
        "v=[4,1,5,2,3]\n",
        "for i in range(len(v)):\n",
        "  for j in range(1+i,len(v)):\n",
        "    if v[i]>=v[j]:\n",
        "      v[i],v[j]=v[j],v[i]\n",
        "print(v)\n",
        "#"
      ],
      "metadata": {
        "colab": {
          "base_uri": "https://localhost:8080/"
        },
        "id": "9NxdoYxvNVz4",
        "outputId": "1baa0490-942a-4f12-bb8c-831b51c6f03a"
      },
      "execution_count": null,
      "outputs": [
        {
          "output_type": "stream",
          "name": "stdout",
          "text": [
            "[1, 2, 3, 4, 5]\n"
          ]
        }
      ]
    },
    {
      "cell_type": "code",
      "source": [
        "#sortingAlgo\n",
        "#1:bubble\n",
        "v=[4,1,5,2,3]\n",
        "n=len(v)-1\n",
        "while(n>0):\n",
        "  for j in range(n):\n",
        "    if v[j]>=v[j+1]:\n",
        "      v[j],v[j+1]=v[j+1],v[j]\n",
        "  n-=1\n",
        "print(v)\n"
      ],
      "metadata": {
        "colab": {
          "base_uri": "https://localhost:8080/"
        },
        "id": "cnvJGBXcqfoR",
        "outputId": "6bfb2bd3-2069-458e-ffea-e138e2b85853"
      },
      "execution_count": null,
      "outputs": [
        {
          "output_type": "stream",
          "name": "stdout",
          "text": [
            "[1, 2, 3, 4, 5]\n"
          ]
        }
      ]
    },
    {
      "cell_type": "code",
      "source": [
        "v=[4,1,5,2,3]\n",
        "n=len(v)-1\n",
        "while(n>0):\n",
        "  for i in range(n):\n",
        "    if v[i]>=v[i+1]:\n",
        "      v[i],v[i+1]=v[i+1],v[i]\n",
        "  n-=1\n",
        "print(v)\n"
      ],
      "metadata": {
        "colab": {
          "base_uri": "https://localhost:8080/"
        },
        "id": "7rOx_rp9to55",
        "outputId": "e76bf702-319c-4141-9c9b-b2bcfe6fd5f5"
      },
      "execution_count": null,
      "outputs": [
        {
          "output_type": "stream",
          "name": "stdout",
          "text": [
            "[1, 2, 3, 4, 5]\n"
          ]
        }
      ]
    },
    {
      "cell_type": "code",
      "source": [
        "#sortingAlgo\n",
        "#1:bubble\n",
        "v=[4,1,5,2,3]\n",
        "k=1\n",
        "for i in range(len(v)):\n",
        "  if v[i]>=v[k]:\n",
        "      v[i],v[k]=v[k],v[i]\n",
        "print(v)"
      ],
      "metadata": {
        "colab": {
          "base_uri": "https://localhost:8080/"
        },
        "id": "cqar0Q7mvL__",
        "outputId": "85005a8a-3057-4840-c8a2-9079b6cd726e"
      },
      "execution_count": null,
      "outputs": [
        {
          "output_type": "stream",
          "name": "stdout",
          "text": [
            "[1, 4, 5, 2, 3]\n"
          ]
        }
      ]
    },
    {
      "cell_type": "code",
      "source": [
        "#sortingAlgo\n",
        "#1:bubble\n",
        "v=[4,1,5,2,3]\n",
        "for i in range(len(v)):\n",
        "  for j in range(i,len(v)-1-i):\n",
        "    if v[j]>=v[j+1]:\n",
        "      v[j],v[j+1]=v[j+1],v[j]\n",
        "print(v)\n",
        "#"
      ],
      "metadata": {
        "colab": {
          "base_uri": "https://localhost:8080/"
        },
        "id": "41ZrkU3tv0wy",
        "outputId": "5dcdfb3a-6530-4428-afe2-9341b3a9715d"
      },
      "execution_count": null,
      "outputs": [
        {
          "output_type": "stream",
          "name": "stdout",
          "text": [
            "[1, 2, 3, 4, 5]\n"
          ]
        }
      ]
    },
    {
      "cell_type": "code",
      "source": [
        "#selection_Sort\n",
        "v=[4,1,5,2,3]\n",
        "for i in range(len(v)-1):\n",
        "  s=i\n",
        "  for j in range(i+1,len(v)):\n",
        "     if v[s]>v[j]:\n",
        "        s=j\n",
        "  v[i],v[s]=v[s],v[i]\n",
        "print(v)"
      ],
      "metadata": {
        "colab": {
          "base_uri": "https://localhost:8080/"
        },
        "id": "r6mTBDUG16vy",
        "outputId": "f522dae6-c526-4135-d7db-41c93f024952"
      },
      "execution_count": null,
      "outputs": [
        {
          "output_type": "stream",
          "name": "stdout",
          "text": [
            "[1, 2, 3, 4, 5]\n"
          ]
        }
      ]
    },
    {
      "cell_type": "code",
      "source": [
        "v=[4,1,5,2,3]\n",
        "f=100\n",
        "for i in range(len(v)-1):\n",
        "  for j in range(i,len(v)):\n",
        "    if f>v[j]:\n",
        "      f=v[j]\n",
        " # print((v.index(f)), i)\n",
        "  c=v.index(f)\n",
        "  print(c)\n",
        "  v[i],v[c]=v[c],v[i]\n",
        "  #print(v)\n",
        "  f=100\n",
        "321rint(v)"
      ],
      "metadata": {
        "colab": {
          "base_uri": "https://localhost:8080/"
        },
        "id": "yJqwmDMm9mO9",
        "outputId": "4c18b705-66eb-46f9-a4c7-e0cb6a4d6533"
      },
      "execution_count": null,
      "outputs": [
        {
          "output_type": "stream",
          "name": "stdout",
          "text": [
            "1\n",
            "3\n",
            "4\n",
            "3\n",
            "[1, 2, 3, 4, 5]\n"
          ]
        }
      ]
    },
    {
      "cell_type": "code",
      "source": [
        "#insertion_Sort\n",
        "v=[4,1,5,2,3]\n",
        "for i in range(1,len(v)):\n",
        "  a=v[i]\n",
        "  for j in range(len(v)):\n",
        "    if v[j]>a:\n",
        "      a=v[j]\n",
        "      print(a)\n",
        "      break\n",
        "print(v)"
      ],
      "metadata": {
        "id": "AFyTxi_PaghO",
        "colab": {
          "base_uri": "https://localhost:8080/"
        },
        "outputId": "be6f1501-9593-4d60-990f-96c01b504d04"
      },
      "execution_count": null,
      "outputs": [
        {
          "output_type": "stream",
          "name": "stdout",
          "text": [
            "4\n",
            "4\n",
            "4\n",
            "[4, 1, 5, 2, 3]\n"
          ]
        }
      ]
    },
    {
      "cell_type": "code",
      "source": [
        "#Insertion_Sort\n",
        "v=[4,1,5,2,3]\n",
        "for i in range(1,len(v)):\n",
        "   a=v[i]\n",
        "   p=i-1\n",
        "   while(p>=0 and v[p]>a):\n",
        "    v[p+1]=v[p]\n",
        "    p-=1\n",
        "   v[p+1]=a\n",
        "print(v)"
      ],
      "metadata": {
        "id": "fBEg0NvgiHla",
        "colab": {
          "base_uri": "https://localhost:8080/"
        },
        "outputId": "44714645-f4b8-4f4b-9aac-d9d6ef6d7f2e"
      },
      "execution_count": null,
      "outputs": [
        {
          "output_type": "stream",
          "name": "stdout",
          "text": [
            "[1, 2, 3, 4, 5]\n"
          ]
        }
      ]
    },
    {
      "cell_type": "code",
      "source": [
        "v=[6,3,9,5,2,8]\n",
        "a=len(v)\n",
        "m=0\n",
        "while(a+m>1):\n",
        "  m=(m+a)//2\n",
        "  print(m)\n",
        "  a=a-1\n"
      ],
      "metadata": {
        "colab": {
          "base_uri": "https://localhost:8080/"
        },
        "id": "5xYMe0wp6AyH",
        "outputId": "998cb60f-aa0b-4038-d3d1-208b030abd29"
      },
      "execution_count": null,
      "outputs": [
        {
          "output_type": "stream",
          "name": "stdout",
          "text": [
            "3\n",
            "4\n",
            "4\n",
            "3\n",
            "2\n",
            "1\n"
          ]
        }
      ]
    },
    {
      "cell_type": "code",
      "source": [
        "a=32\n",
        "print(f'my age is {(a)}')"
      ],
      "metadata": {
        "colab": {
          "base_uri": "https://localhost:8080/"
        },
        "id": "yOAxn3fWqE-k",
        "outputId": "56ce41f2-1568-4fe8-dfc1-e052887e842f"
      },
      "execution_count": null,
      "outputs": [
        {
          "output_type": "stream",
          "name": "stdout",
          "text": [
            "my age is 32\n"
          ]
        }
      ]
    },
    {
      "cell_type": "code",
      "source": [
        "class Node:\n",
        "  def __init__(self,data):\n",
        "    self.node=data\n",
        "    self.next=None\n",
        "    def __str__(self):\n",
        "      return str(self.node)\n",
        "  def __repr__(self):\n",
        "    return str(self.node)\n",
        "print(Node(10),Node(20),Node(30))\n",
        "print(Node(10),Node(20),Node(30))"
      ],
      "metadata": {
        "colab": {
          "base_uri": "https://localhost:8080/"
        },
        "id": "s_Ggdl4majHt",
        "outputId": "952f3a35-dbbc-457f-c431-aebd837c0376"
      },
      "execution_count": null,
      "outputs": [
        {
          "output_type": "stream",
          "name": "stdout",
          "text": [
            "10 20 30\n",
            "10 20 30\n"
          ]
        }
      ]
    },
    {
      "cell_type": "code",
      "source": [
        "class A:\n",
        "  def __init__(self,data):\n",
        "    self.data=data\n",
        "    print(self.data)\n",
        "    self.next=None"
      ],
      "metadata": {
        "id": "j8_YqXMIE7z9"
      },
      "execution_count": null,
      "outputs": []
    },
    {
      "cell_type": "code",
      "source": [
        "class B:\n",
        "  def __init__(self,data):\n",
        "    self.data=data\n",
        "    self.next=None\n",
        "n1=B(10)\n",
        "n2=B(20)\n",
        "n3=B(30)\n",
        "n1.next=n2\n",
        "n2.next=n3\n",
        "#print(n1.next.next)\n",
        "c=n1\n",
        "while((c!=None)):\n",
        "  print(c.data,c.next,end=' ')\n",
        "  c=c.next\n",
        "#print(None)\n"
      ],
      "metadata": {
        "colab": {
          "base_uri": "https://localhost:8080/"
        },
        "id": "9cdrgZq0S0vE",
        "outputId": "449cf4fb-9942-4e00-e2ca-3c8b19e818b8"
      },
      "execution_count": null,
      "outputs": [
        {
          "output_type": "stream",
          "name": "stdout",
          "text": [
            "10 <__main__.B object at 0x7d1d4a311420> 20 <__main__.B object at 0x7d1d4a312ce0> 30 None "
          ]
        }
      ]
    },
    {
      "cell_type": "code",
      "source": [
        "#sing linkelist\n",
        "class Sil:\n",
        "  def __init__(self):\n",
        "    self.head=None\n",
        "  def a(self):\n",
        "    if self.head is None:\n",
        "      print('empty')\n",
        "    else:\n",
        "      k=self.head\n",
        "      while(k!=None):\n",
        "        print(k.data,k.next)\n",
        "        k=k.next\n",
        "print(Sil().head)"
      ],
      "metadata": {
        "colab": {
          "base_uri": "https://localhost:8080/"
        },
        "id": "gXTHK-Aux5Sd",
        "outputId": "acfb341f-608c-4ec2-b1ea-735048f6d641"
      },
      "execution_count": null,
      "outputs": [
        {
          "output_type": "stream",
          "name": "stdout",
          "text": [
            "None\n"
          ]
        }
      ]
    },
    {
      "cell_type": "code",
      "source": [
        "#treversel\n",
        "a=Sil().head"
      ],
      "metadata": {
        "id": "H0yVKCeT8O6b"
      },
      "execution_count": null,
      "outputs": []
    },
    {
      "cell_type": "code",
      "source": [
        "while(a!=None):\n",
        "  print(a.data)\n",
        "  a=a.next"
      ],
      "metadata": {
        "id": "A6uDa0eb84-X"
      },
      "execution_count": null,
      "outputs": []
    },
    {
      "cell_type": "code",
      "source": [
        "#stack\n",
        "v=[]\n",
        "while(1):\n",
        "    c=int(input( ''' push:-1, pop:-2, peek:-3, display:-4, exit:-5'''))\n",
        "    if c==1:\n",
        "      m=int(input('enter_the value'))\n",
        "      v.append(m)\n",
        "      print(v)\n",
        "    if c==2:\n",
        "        if len(v)!=0:\n",
        "            del v[len(v)-1]\n",
        "            print(v)\n",
        "    if c==3:\n",
        "        print(v[len(v)-1])\n",
        "    if c==4:\n",
        "      print(v)\n",
        "\n",
        "    if c==5:\n",
        "     break"
      ],
      "metadata": {
        "colab": {
          "base_uri": "https://localhost:8080/"
        },
        "id": "p2JsO9gv89Uk",
        "outputId": "01c62313-1c6f-4933-8622-17a8655d759c"
      },
      "execution_count": null,
      "outputs": [
        {
          "name": "stdout",
          "output_type": "stream",
          "text": [
            " push:-1, pop:-2, peek:-3, display:-4, exit:-51\n",
            "enter_the value1\n",
            "[1]\n",
            " push:-1, pop:-2, peek:-3, display:-4, exit:-51\n",
            "enter_the value2\n",
            "[1, 2]\n",
            " push:-1, pop:-2, peek:-3, display:-4, exit:-51\n",
            "enter_the value3\n",
            "[1, 2, 3]\n",
            " push:-1, pop:-2, peek:-3, display:-4, exit:-51\n",
            "enter_the value4\n",
            "[1, 2, 3, 4]\n",
            " push:-1, pop:-2, peek:-3, display:-4, exit:-51\n",
            "enter_the value5\n",
            "[1, 2, 3, 4, 5]\n",
            " push:-1, pop:-2, peek:-3, display:-4, exit:-54\n",
            "[1, 2, 3, 4, 5]\n",
            " push:-1, pop:-2, peek:-3, display:-4, exit:-55\n"
          ]
        }
      ]
    },
    {
      "cell_type": "code",
      "source": [
        "#Que\n",
        "v=[]\n",
        "while(1):\n",
        "  c=int(input((''' push:1, pop:2,peek:3, display:4 ,exit:5''')))\n",
        "  if c==1:\n",
        "    m=int(input('enter_the value'))\n",
        "    v.append(m)\n",
        "    print(v)\n",
        "  if c==2:\n",
        "    if len(v)==0:\n",
        "      print('empty')\n",
        "    else:\n",
        "      del v[0]\n",
        "      print(v)\n",
        "  if c==3:\n",
        "    print(v[len(v)-1])\n",
        "  if c==4:\n",
        "    print(v)\n",
        "  if c==5:\n",
        "    break"
      ],
      "metadata": {
        "colab": {
          "base_uri": "https://localhost:8080/"
        },
        "id": "zziSdjNQTTti",
        "outputId": "f6d33ef3-5501-4466-bcbc-667c7310fc22"
      },
      "execution_count": null,
      "outputs": [
        {
          "name": "stdout",
          "output_type": "stream",
          "text": [
            " push:1, pop:2,peek:3, display:4 ,exit:51\n",
            "enter_the value1\n",
            "[1]\n",
            " push:1, pop:2,peek:3, display:4 ,exit:51\n",
            "enter_the value2\n",
            "[1, 2]\n",
            " push:1, pop:2,peek:3, display:4 ,exit:51\n",
            "enter_the value3\n",
            "[1, 2, 3]\n",
            " push:1, pop:2,peek:3, display:4 ,exit:51\n",
            "enter_the value4\n",
            "[1, 2, 3, 4]\n",
            " push:1, pop:2,peek:3, display:4 ,exit:53\n",
            "4\n",
            " push:1, pop:2,peek:3, display:4 ,exit:54\n",
            "[1, 2, 3, 4]\n",
            " push:1, pop:2,peek:3, display:4 ,exit:55\n"
          ]
        }
      ]
    },
    {
      "cell_type": "code",
      "source": [
        "#ones again create a linked_list\n",
        "class A:\n",
        "  def __init__(self,data):\n",
        "    self.data=data\n",
        "    self.next=None\n",
        "n1=A(10)\n",
        "n2=A(20)\n",
        "n3=A(30)\n",
        "n1.next=n2\n",
        "n2_next=n3\n",
        "print(n1.next.data)\n",
        "\n"
      ],
      "metadata": {
        "colab": {
          "base_uri": "https://localhost:8080/"
        },
        "id": "rp_C7YgcY_q2",
        "outputId": "0355bcc0-4a2b-436c-82ac-0e26e3ee9f2c"
      },
      "execution_count": null,
      "outputs": [
        {
          "output_type": "stream",
          "name": "stdout",
          "text": [
            "20\n"
          ]
        }
      ]
    },
    {
      "cell_type": "code",
      "source": [
        "s=A(90)\n",
        "s.data=12\n",
        "print(s.next)"
      ],
      "metadata": {
        "colab": {
          "base_uri": "https://localhost:8080/"
        },
        "id": "IrY1D1tZZD6x",
        "outputId": "053a2c9a-a67d-485c-cca5-e6805107ddb9"
      },
      "execution_count": null,
      "outputs": [
        {
          "output_type": "stream",
          "name": "stdout",
          "text": [
            "None\n"
          ]
        }
      ]
    },
    {
      "cell_type": "code",
      "source": [
        "n1=A(10)\n"
      ],
      "metadata": {
        "colab": {
          "base_uri": "https://localhost:8080/"
        },
        "id": "b_8X-BgKdPJ1",
        "outputId": "0db16771-eac2-4bd0-c1bc-f8933596340d"
      },
      "execution_count": null,
      "outputs": [
        {
          "output_type": "stream",
          "name": "stdout",
          "text": [
            "None\n"
          ]
        }
      ]
    },
    {
      "cell_type": "code",
      "source": [],
      "metadata": {
        "id": "XOFM6RDSdXUP"
      },
      "execution_count": null,
      "outputs": []
    }
  ]
}